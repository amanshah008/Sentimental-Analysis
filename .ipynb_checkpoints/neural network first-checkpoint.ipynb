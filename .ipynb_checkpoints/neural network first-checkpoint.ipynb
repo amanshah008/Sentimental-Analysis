{
 "cells": [
  {
   "cell_type": "code",
   "execution_count": 18,
   "metadata": {},
   "outputs": [],
   "source": [
    "def pretty_print_review_and_label(i):\n",
    "    print(labels[i] + \"\\t:\\t\" + reviews[i][:80] + \"...\")\n",
    "\n",
    "g = open('reviews.txt','r') # input\n",
    "# data and labels are loaded from file \n",
    "reviews = list(map(lambda x:x[:-1],g.readlines()))\n",
    "g.close()\n",
    "\n",
    "g = open('labels.txt','r') # ground reality\n",
    "labels = list(map(lambda x:x[:-1].upper(),g.readlines()))\n",
    "g.close()"
   ]
  },
  {
   "cell_type": "code",
   "execution_count": 19,
   "metadata": {},
   "outputs": [
    {
     "name": "stdout",
     "output_type": "stream",
     "text": [
      "labels.txt \t : \t reviews.txt\n",
      "\n",
      "NEGATIVE\t:\tthis movie is terrible but it has some good effects .  ...\n",
      "POSITIVE\t:\tadrian pasdar is excellent is this film . he makes a fascinating woman .  ...\n"
     ]
    }
   ],
   "source": [
    "\n",
    "print(\"labels.txt \\t : \\t reviews.txt\\n\")\n",
    "pretty_print_review_and_label(2137)\n",
    "pretty_print_review_and_label(12816)\n",
    "\n"
   ]
  },
  {
   "cell_type": "code",
   "execution_count": 22,
   "metadata": {
    "scrolled": true
   },
   "outputs": [],
   "source": [
    "\n",
    "from collections import Counter\n",
    "import numpy as np"
   ]
  },
  {
   "cell_type": "code",
   "execution_count": 21,
   "metadata": {},
   "outputs": [],
   "source": [
    "positive_counts = Counter()\n",
    "negative_counts = Counter()\n",
    "total_counts = Counter()"
   ]
  },
  {
   "cell_type": "code",
   "execution_count": 28,
   "metadata": {
    "scrolled": true
   },
   "outputs": [],
   "source": [
    "for i in range(0,len(re)):\n",
    "    l=reviews[i].split(' ')\n",
    "    if labels[i] is 'NEGATIVE':\n",
    "        for word in l:\n",
    "            negative_counts[word]+=1\n",
    "            total_counts[word] +=1\n",
    "    else:\n",
    "        for word in l:\n",
    "            negative_counts[word]+=1\n",
    "            total_counts[word] +=1\n",
    "    \n",
    "        \n",
    "            \n",
    "            \n",
    "        \n",
    "        \n",
    "    "
   ]
  },
  {
   "cell_type": "code",
   "execution_count": 29,
   "metadata": {},
   "outputs": [
    {
     "data": {
      "text/plain": [
       "Counter({'bromwell': 4,\n",
       "         'high': 5,\n",
       "         'is': 4,\n",
       "         'a': 4,\n",
       "         'cartoon': 1,\n",
       "         'comedy': 1,\n",
       "         '.': 27,\n",
       "         'it': 2,\n",
       "         'ran': 1,\n",
       "         'at': 2,\n",
       "         'the': 9,\n",
       "         'same': 1,\n",
       "         'time': 1,\n",
       "         'as': 2,\n",
       "         'some': 1,\n",
       "         'other': 1,\n",
       "         'programs': 1,\n",
       "         'about': 1,\n",
       "         'school': 2,\n",
       "         'life': 1,\n",
       "         '': 18,\n",
       "         'such': 1,\n",
       "         'teachers': 4,\n",
       "         'my': 2,\n",
       "         'years': 1,\n",
       "         'in': 2,\n",
       "         'teaching': 1,\n",
       "         'profession': 1,\n",
       "         'lead': 1,\n",
       "         'me': 2,\n",
       "         'to': 6,\n",
       "         'believe': 1,\n",
       "         'that': 4,\n",
       "         's': 1,\n",
       "         'satire': 1,\n",
       "         'much': 1,\n",
       "         'closer': 1,\n",
       "         'reality': 1,\n",
       "         'than': 1,\n",
       "         'scramble': 1,\n",
       "         'survive': 1,\n",
       "         'financially': 1,\n",
       "         'insightful': 1,\n",
       "         'students': 2,\n",
       "         'who': 1,\n",
       "         'can': 1,\n",
       "         'see': 1,\n",
       "         'right': 1,\n",
       "         'through': 1,\n",
       "         'their': 2,\n",
       "         'pathetic': 1,\n",
       "         'pomp': 1,\n",
       "         'pettiness': 1,\n",
       "         'of': 4,\n",
       "         'whole': 1,\n",
       "         'situation': 1,\n",
       "         'all': 1,\n",
       "         'remind': 1,\n",
       "         'schools': 1,\n",
       "         'i': 5,\n",
       "         'knew': 1,\n",
       "         'and': 1,\n",
       "         'when': 1,\n",
       "         'saw': 1,\n",
       "         'episode': 1,\n",
       "         'which': 1,\n",
       "         'student': 2,\n",
       "         'repeatedly': 1,\n",
       "         'tried': 1,\n",
       "         'burn': 1,\n",
       "         'down': 1,\n",
       "         'immediately': 1,\n",
       "         'recalled': 1,\n",
       "         'classic': 1,\n",
       "         'line': 1,\n",
       "         'inspector': 1,\n",
       "         'm': 1,\n",
       "         'here': 1,\n",
       "         'sack': 1,\n",
       "         'one': 1,\n",
       "         'your': 1,\n",
       "         'welcome': 1,\n",
       "         'expect': 1,\n",
       "         'many': 1,\n",
       "         'adults': 1,\n",
       "         'age': 1,\n",
       "         'think': 1,\n",
       "         'far': 1,\n",
       "         'fetched': 1,\n",
       "         'what': 1,\n",
       "         'pity': 1,\n",
       "         'isn': 1,\n",
       "         't': 1})"
      ]
     },
     "execution_count": 29,
     "metadata": {},
     "output_type": "execute_result"
    }
   ],
   "source": []
  },
  {
   "cell_type": "code",
   "execution_count": null,
   "metadata": {},
   "outputs": [],
   "source": []
  }
 ],
 "metadata": {
  "kernelspec": {
   "display_name": "Python 3",
   "language": "python",
   "name": "python3"
  },
  "language_info": {
   "codemirror_mode": {
    "name": "ipython",
    "version": 3
   },
   "file_extension": ".py",
   "mimetype": "text/x-python",
   "name": "python",
   "nbconvert_exporter": "python",
   "pygments_lexer": "ipython3",
   "version": "3.7.0"
  }
 },
 "nbformat": 4,
 "nbformat_minor": 2
}
